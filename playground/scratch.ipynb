{
 "cells": [
  {
   "cell_type": "code",
   "execution_count": 85,
   "id": "initial_id",
   "metadata": {
    "collapsed": true,
    "ExecuteTime": {
     "end_time": "2024-02-19T17:13:02.054157Z",
     "start_time": "2024-02-19T17:13:02.045390Z"
    }
   },
   "outputs": [
    {
     "ename": "ModuleNotFoundError",
     "evalue": "No module named 'nn'",
     "output_type": "error",
     "traceback": [
      "\u001B[0;31m---------------------------------------------------------------------------\u001B[0m",
      "\u001B[0;31mModuleNotFoundError\u001B[0m                       Traceback (most recent call last)",
      "Cell \u001B[0;32mIn[85], line 13\u001B[0m\n\u001B[1;32m     10\u001B[0m \u001B[38;5;28;01mfrom\u001B[39;00m \u001B[38;5;21;01mtorch\u001B[39;00m \u001B[38;5;28;01mimport\u001B[39;00m tensor\n\u001B[1;32m     11\u001B[0m \u001B[38;5;28;01mfrom\u001B[39;00m \u001B[38;5;21;01mfastai\u001B[39;00m\u001B[38;5;21;01m.\u001B[39;00m\u001B[38;5;21;01mdata\u001B[39;00m\u001B[38;5;21;01m.\u001B[39;00m\u001B[38;5;21;01mall\u001B[39;00m \u001B[38;5;28;01mimport\u001B[39;00m to_np\n\u001B[0;32m---> 13\u001B[0m \u001B[38;5;28;01mfrom\u001B[39;00m \u001B[38;5;21;01mnn\u001B[39;00m \u001B[38;5;28;01mimport\u001B[39;00m F\n",
      "\u001B[0;31mModuleNotFoundError\u001B[0m: No module named 'nn'"
     ]
    }
   ],
   "source": [
    "import numpy as np\n",
    "import matplotlib.pyplot as plt\n",
    "import matplotlib as mpl\n",
    "import fastai\n",
    "import seaborn as sns \n",
    "import pandas as pd\n",
    "\n",
    "import torch\n",
    "import torch.nn as nn\n",
    "from torch import tensor\n",
    "from fastai.data.all import to_np\n"
   ]
  },
  {
   "cell_type": "code",
   "outputs": [
    {
     "data": {
      "text/plain": "tensor([[ 1,  2,  3],\n        [ 4,  5,  6],\n        [ 7,  8,  9],\n        [10, 11, 12]])"
     },
     "execution_count": 65,
     "metadata": {},
     "output_type": "execute_result"
    }
   ],
   "source": [
    "x = tensor([[1,2,3],[4,5,6]])\n",
    "y = tensor([[7,8,9],[10,11,12]])\n",
    "torch.cat([x,y])"
   ],
   "metadata": {
    "collapsed": false,
    "ExecuteTime": {
     "end_time": "2024-02-19T16:10:33.771820Z",
     "start_time": "2024-02-19T16:10:33.768915Z"
    }
   },
   "id": "213b0a3f12952dce",
   "execution_count": 65
  },
  {
   "cell_type": "code",
   "outputs": [
    {
     "data": {
      "text/plain": "tensor([[ 1,  2,  3,  7,  8,  9],\n        [ 4,  5,  6, 10, 11, 12]])"
     },
     "execution_count": 66,
     "metadata": {},
     "output_type": "execute_result"
    }
   ],
   "source": [
    "torch.cat([x,y], dim=1)"
   ],
   "metadata": {
    "collapsed": false,
    "ExecuteTime": {
     "end_time": "2024-02-19T16:10:33.991517Z",
     "start_time": "2024-02-19T16:10:33.987383Z"
    }
   },
   "id": "b179ab0e7aa170fb",
   "execution_count": 66
  },
  {
   "cell_type": "code",
   "outputs": [
    {
     "data": {
      "text/plain": "tensor([[ 1,  2,  3],\n        [ 4,  5,  6],\n        [ 7,  8,  9],\n        [10, 11, 12],\n        [13, 14, 15]])"
     },
     "execution_count": 67,
     "metadata": {},
     "output_type": "execute_result"
    }
   ],
   "source": [
    "z = tensor([[13,14,15]])\n",
    "torch.cat([x,y, z])"
   ],
   "metadata": {
    "collapsed": false,
    "ExecuteTime": {
     "end_time": "2024-02-19T16:10:34.462960Z",
     "start_time": "2024-02-19T16:10:34.459592Z"
    }
   },
   "id": "d580684b19c9fb82",
   "execution_count": 67
  },
  {
   "cell_type": "code",
   "outputs": [
    {
     "data": {
      "text/plain": "tensor([[ 1,  2,  3,  7,  8,  9, 16],\n        [ 4,  5,  6, 10, 11, 12, 17]])"
     },
     "execution_count": 68,
     "metadata": {},
     "output_type": "execute_result"
    }
   ],
   "source": [
    "w = tensor([[16],[17]])\n",
    "torch.cat([x,y, w], dim=1)"
   ],
   "metadata": {
    "collapsed": false,
    "ExecuteTime": {
     "end_time": "2024-02-19T16:10:34.886708Z",
     "start_time": "2024-02-19T16:10:34.883283Z"
    }
   },
   "id": "26d8a693ffcbb037",
   "execution_count": 68
  },
  {
   "cell_type": "code",
   "outputs": [
    {
     "data": {
      "text/plain": "(Parameter containing:\n tensor([[ 0.1321,  0.2911,  0.0731, -0.3915],\n         [-0.4883, -0.0612, -0.3576,  0.4659],\n         [-0.3364,  0.4563,  0.2662, -0.3554],\n         [ 0.0711, -0.0323,  0.3143,  0.1223],\n         [-0.0597,  0.1131,  0.2172,  0.0019]], requires_grad=True),\n Parameter containing:\n tensor([-0.3869,  0.2534,  0.3895, -0.4279, -0.3120], requires_grad=True))"
     },
     "execution_count": 79,
     "metadata": {},
     "output_type": "execute_result"
    }
   ],
   "source": [
    "model = nn.Linear(4, 5)\n",
    "model.weight, model.bias\n"
   ],
   "metadata": {
    "collapsed": false,
    "ExecuteTime": {
     "end_time": "2024-02-19T17:03:20.566731Z",
     "start_time": "2024-02-19T17:03:20.564412Z"
    }
   },
   "id": "28d6cd3c6be4b526",
   "execution_count": 79
  },
  {
   "cell_type": "code",
   "outputs": [
    {
     "data": {
      "text/plain": "(Parameter containing:\n tensor([[ 0.1321,  0.2911,  0.0731, -0.3915],\n         [-0.4883, -0.0612, -0.3576,  0.4659],\n         [-0.3364,  0.4563,  0.2662, -0.3554],\n         [ 0.0711, -0.0323,  0.3143,  0.1223],\n         [-0.0597,  0.1131,  0.2172,  0.0019]], requires_grad=True),\n Parameter containing:\n tensor([-0.3869,  0.2534,  0.3895, -0.4279, -0.3120], requires_grad=True))"
     },
     "execution_count": 83,
     "metadata": {},
     "output_type": "execute_result"
    }
   ],
   "source": [
    "w, b = model.parameters()\n",
    "w,b"
   ],
   "metadata": {
    "collapsed": false,
    "ExecuteTime": {
     "end_time": "2024-02-19T17:04:24.025938Z",
     "start_time": "2024-02-19T17:04:24.022199Z"
    }
   },
   "id": "6ed642bf39e6c784",
   "execution_count": 83
  },
  {
   "cell_type": "code",
   "outputs": [
    {
     "ename": "NameError",
     "evalue": "name 'plot_function' is not defined",
     "output_type": "error",
     "traceback": [
      "\u001B[0;31m---------------------------------------------------------------------------\u001B[0m",
      "\u001B[0;31mNameError\u001B[0m                                 Traceback (most recent call last)",
      "Cell \u001B[0;32mIn[87], line 1\u001B[0m\n\u001B[0;32m----> 1\u001B[0m plot_function(torch\u001B[38;5;241m.\u001B[39mnn\u001B[38;5;241m.\u001B[39mReLU)\n",
      "\u001B[0;31mNameError\u001B[0m: name 'plot_function' is not defined"
     ]
    }
   ],
   "source": [],
   "metadata": {
    "collapsed": false,
    "ExecuteTime": {
     "end_time": "2024-02-19T17:14:18.569734Z",
     "start_time": "2024-02-19T17:14:18.564043Z"
    }
   },
   "id": "3ecbfc28b2197f84",
   "execution_count": 87
  },
  {
   "cell_type": "code",
   "outputs": [],
   "source": [],
   "metadata": {
    "collapsed": false
   },
   "id": "9deb904dce22bbee"
  }
 ],
 "metadata": {
  "kernelspec": {
   "display_name": "Python 3",
   "language": "python",
   "name": "python3"
  },
  "language_info": {
   "codemirror_mode": {
    "name": "ipython",
    "version": 2
   },
   "file_extension": ".py",
   "mimetype": "text/x-python",
   "name": "python",
   "nbconvert_exporter": "python",
   "pygments_lexer": "ipython2",
   "version": "2.7.6"
  }
 },
 "nbformat": 4,
 "nbformat_minor": 5
}
